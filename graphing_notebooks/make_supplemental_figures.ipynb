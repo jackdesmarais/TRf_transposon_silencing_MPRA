{
 "cells": [
  {
   "cell_type": "code",
   "execution_count": null,
   "metadata": {},
   "outputs": [],
   "source": [
    "import seaborn as sns\n",
    "sns.set_palette('colorblind')\n",
    "\n",
    "import matplotlib.pyplot as plt\n",
    "from matplotlib import rc_context\n",
    "import numpy as np\n",
    "\n",
    "import pandas as pd\n",
    "\n",
    "import sys\n",
    "\n",
    "from bin.library_analyzer import Library, multi_gini, depth_plot,density_scatter,correspondance_plotter,line_plotter,OLS_plotter"
   ]
  }
 ],
 "metadata": {
  "kernelspec": {
   "display_name": "Vakoc_library_analysis",
   "language": "python",
   "name": "python3"
  },
  "language_info": {
   "name": "python",
   "version": "3.9.18"
  }
 },
 "nbformat": 4,
 "nbformat_minor": 2
}
